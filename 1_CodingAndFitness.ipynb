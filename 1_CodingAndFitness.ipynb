{
 "cells": [
  {
   "cell_type": "markdown",
   "id": "22ea0220-5ffb-4a50-aa14-aa372c101973",
   "metadata": {},
   "source": [
    "# Coding and Fitness"
   ]
  },
  {
   "cell_type": "markdown",
   "id": "fd09224d-e5f4-436c-9a73-10e6d5e1219a",
   "metadata": {},
   "source": [
    "## Kodierung"
   ]
  },
  {
   "cell_type": "markdown",
   "id": "25139362-44a8-4f8f-b998-11022f9b724b",
   "metadata": {},
   "source": [
    "1) Kodieren Sie verschiedene Integer als Binär-Vektoren und probieren Sie verschiedene Bit-Mutationen aus. Wie stark können sich die Werte ändern? Wie groß ist die Hamming-Distanz?"
   ]
  },
  {
   "cell_type": "code",
   "execution_count": 2,
   "id": "dd7a69e2-b342-41da-bd73-3a3c482c88a5",
   "metadata": {},
   "outputs": [],
   "source": [
    "import numpy as np\n",
    "from softcomputing.ea import mutate_bit\n",
    "\n",
    "\n",
    "#hamming distanz: \n",
    "def hamming_dist(arg1, arg2):\n",
    "    return np.sum(arg1.astype(int) != arg2.astype(int))\n"
   ]
  },
  {
   "cell_type": "code",
   "execution_count": 4,
   "id": "18f460e8-f7c1-4cfe-84d1-2590dc79c804",
   "metadata": {},
   "outputs": [
    {
     "data": {
      "text/plain": [
       "1"
      ]
     },
     "execution_count": 4,
     "metadata": {},
     "output_type": "execute_result"
    }
   ],
   "source": [
    "eight = np.asarray([0,0,0,0,1,0,0,0])\n",
    "seven = np.asarray([0,0,0,0,0,1,1,1])\n",
    "six = np.asarray([0,0,0,0,0,1,0,0])\n",
    "\n",
    "hamming_dist(eight, mutate_bit(eight.copy(),0.1))"
   ]
  },
  {
   "cell_type": "markdown",
   "id": "d472e926-03af-4e26-8a4c-5ffd4ee70f7e",
   "metadata": {},
   "source": [
    "2. Nutzen Sie eine andere Kodierung für Integer, bei denen ähnliche Kodierungen zu ähnlichen Werten führen. Gemeint ist: geringe Hamming-Distanz zwischen benachbarten Zahlen. Siehe auch [Gray Code](https://en.wikipedia.org/wiki/Gray_code)."
   ]
  },
  {
   "cell_type": "code",
   "execution_count": 7,
   "id": "ea0f7fae-a0e4-4b0e-bf60-eed1ba5cade7",
   "metadata": {},
   "outputs": [],
   "source": [
    "def binary_to_gray(n):\n",
    "    return n ^ (n >> 1)\n",
    "\n",
    "def gray_to_binary(n):\n",
    "    \"\"\"Converts a Gray code integer back to a binary integer.\"\"\"\n",
    "    result = n\n",
    "    while n > 0:\n",
    "        n >>= 1\n",
    "        result ^= n\n",
    "    return result\n",
    "\n"
   ]
  },
  {
   "cell_type": "code",
   "execution_count": 9,
   "id": "ae55da08-b677-4dbe-9a06-79a7dafea39b",
   "metadata": {},
   "outputs": [
    {
     "ename": "NameError",
     "evalue": "name 'gray_decoded' is not defined",
     "output_type": "error",
     "traceback": [
      "\u001b[1;31m---------------------------------------------------------------------------\u001b[0m",
      "\u001b[1;31mNameError\u001b[0m                                 Traceback (most recent call last)",
      "Cell \u001b[1;32mIn[9], line 3\u001b[0m\n\u001b[0;32m      1\u001b[0m bin_num \u001b[38;5;241m=\u001b[39m \u001b[38;5;241m10\u001b[39m  \u001b[38;5;66;03m# Binärzahl 1010\u001b[39;00m\n\u001b[0;32m      2\u001b[0m gray_encoded \u001b[38;5;241m=\u001b[39m binary_to_gray(bin_num)\n\u001b[1;32m----> 3\u001b[0m \u001b[38;5;28mprint\u001b[39m(gray_decoded)\n\u001b[0;32m      4\u001b[0m binary \u001b[38;5;241m=\u001b[39m \u001b[38;5;28mbin\u001b[39m(bin_num)\n\u001b[0;32m      5\u001b[0m \u001b[38;5;28mprint\u001b[39m(binary)\n",
      "\u001b[1;31mNameError\u001b[0m: name 'gray_decoded' is not defined"
     ]
    }
   ],
   "source": [
    "bin_num = 10  # Binärzahl 1010\n",
    "gray_encoded = binary_to_gray(bin_num)\n",
    "print(gray_decoded)\n",
    "binary = bin(bin_num)\n",
    "print(binary)"
   ]
  },
  {
   "cell_type": "markdown",
   "id": "87d68ac5-aa7f-4977-a624-6f40bbc1abba",
   "metadata": {},
   "source": [
    "3. Finden Sie eine geeignete Kodierung (Genotyp) für das Regressionsproblem aus der Vorlesung. Hinweis: Es muss die Steigung `m` und der Offset `b` als Gleitkommezahl kodiert werden."
   ]
  },
  {
   "cell_type": "code",
   "execution_count": null,
   "id": "c2721f6e-e45e-4950-a158-8c08e9b4e2e0",
   "metadata": {},
   "outputs": [],
   "source": []
  },
  {
   "cell_type": "markdown",
   "id": "abd903f8-1020-4eab-b030-930ae2bbf499",
   "metadata": {},
   "source": [
    "4. Finden Sie eine geeignete Kodierung (Genotyp) für einen [PID-Regler](https://en.wikipedia.org/wiki/Proportional%E2%80%93integral%E2%80%93derivative_controller)."
   ]
  },
  {
   "cell_type": "code",
   "execution_count": null,
   "id": "b103372e-2ab8-44d2-be16-0dc944cd2474",
   "metadata": {},
   "outputs": [],
   "source": [
    "#3 positive Variable"
   ]
  },
  {
   "cell_type": "markdown",
   "id": "b1365f29-39e4-4a60-bffc-7987830c8409",
   "metadata": {},
   "source": [
    "## Fitness"
   ]
  },
  {
   "cell_type": "markdown",
   "id": "7748ece1-8a9c-4bbc-9c93-f3254a2a11d2",
   "metadata": {},
   "source": [
    "1. Implementieren Sie die Zielfunktion für das Regressionsproblem aus der Vorlesung."
   ]
  },
  {
   "cell_type": "code",
   "execution_count": null,
   "id": "14cdf3ae-feb0-4f0c-9ae0-f1f4621caf7b",
   "metadata": {},
   "outputs": [],
   "source": []
  },
  {
   "cell_type": "markdown",
   "id": "75c2d608-f60b-4542-b864-86455a908812",
   "metadata": {},
   "source": [
    "2. Erzeugen Sie eine zufälligen Population von Individuen und plotten Sie diese gegen die Daten, werten Sie auch die Zielfunktion für jeden Phänotypen aus."
   ]
  },
  {
   "cell_type": "code",
   "execution_count": null,
   "id": "7d5b89a2-e925-4189-ba31-6d7bab74ab20",
   "metadata": {},
   "outputs": [],
   "source": []
  }
 ],
 "metadata": {
  "kernelspec": {
   "display_name": "Python 3 (ipykernel)",
   "language": "python",
   "name": "python3"
  },
  "language_info": {
   "codemirror_mode": {
    "name": "ipython",
    "version": 3
   },
   "file_extension": ".py",
   "mimetype": "text/x-python",
   "name": "python",
   "nbconvert_exporter": "python",
   "pygments_lexer": "ipython3",
   "version": "3.12.4"
  }
 },
 "nbformat": 4,
 "nbformat_minor": 5
}
