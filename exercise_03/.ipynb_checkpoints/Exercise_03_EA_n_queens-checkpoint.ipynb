{
 "cells": [
  {
   "cell_type": "code",
   "execution_count": 1,
   "metadata": {},
   "outputs": [],
   "source": [
    "import numpy as np\n",
    "import matplotlib.pyplot as plt\n",
    "from itertools import combinations\n",
    "from IPython.display import clear_output\n",
    "import time"
   ]
  },
  {
   "cell_type": "code",
   "execution_count": 2,
   "metadata": {},
   "outputs": [],
   "source": [
    "from utils import return_board, plot_board, plot_f_pop"
   ]
  },
  {
   "cell_type": "markdown",
   "metadata": {},
   "source": [
    "# N-Damen-Optimierungsproblem\n",
    "\n",
    "Das N-Damen-Problem ist ein klassisches Optimierungsproblem, bei dem es darum geht, N Damen auf einem N x N-Schachbrett so zu platzieren, dass sich keine zwei Damen gegenseitig angreifen. Mit anderen Worten, wir wollen eine Anordnung der Damen auf dem Brett finden, bei der sich keine zwei Damen in derselben Reihe, Spalte oder Diagonale befinden. \n",
    "\n",
    "Dieses Problem kann als kombinatorisches Optimierungsproblem modelliert werden, bei dem das Ziel darin besteht, die bestmögliche Konfiguration von Königinnen auf dem Brett zu finden. Es gibt viele verschiedene Algorithmen, die zur Lösung des N-Queens-Problems verwendet werden können, darunter genetische Algorithmen, Simulated Annealing und Constraint Programming.\n",
    "\n",
    "## Binäre Darstellung des N-Queens-Problems\n",
    "\n",
    "Eine Möglichkeit, die Position der Damen auf dem Brett darzustellen, ist die Verwendung einer binären Kodierung, bei der die Position jeder Dame als binäre Zeichenkette der Länge N dargestellt wird. Im Falle eines 5 x 5 Schachbretts könnte die Position jeder Dame beispielsweise als binäre 5-Bit-Zeichenkette dargestellt werden.\n",
    "\n",
    "Eine andere Möglichkeit, die Stellung der Damen darzustellen, ist die Verwendung einer Matrix von Binärwerten. In dieser Darstellung ist die Matrix eine quadratische Matrix mit den Abmessungen N x N, und jede Zelle in der Matrix steht für ein Feld auf dem Schachbrett. Ein Wert von 1 in einer bestimmten Zelle bedeutet, dass sich eine Dame auf diesem Feld befindet, während ein Wert von 0 bedeutet, dass das Feld leer ist.\n",
    "\n",
    "Betrachten Sie zum Beispiel das folgende Array von Damenpositionen:\n",
    "\n",
    "```python\n",
    "[0, 3, 1, 4, 2]\n",
    "```\n",
    "\n",
    "- Verwenden Sie die Funktion `return_board` für die Umwandlung diese variable in eine binäre Darstellung wie am Beispiel der folgende Matrix:\n",
    "\n",
    "```python\n",
    "array([[1., 0., 0., 0., 0.],\n",
    "       [0., 0., 0., 1., 0.],\n",
    "       [0., 1., 0., 0., 0.],\n",
    "       [0., 0., 0., 0., 1.],\n",
    "       [0., 0., 1., 0., 0.]])\n",
    "```\n",
    "\n",
    ">Diese Matrix stellt eine gültige Lösung des N-Queens-Problems dar, bei der sich keine zwei Königinnen gegenseitig angreifen.\n",
    "\n",
    "- Verwenden Sie die Funktion `plot_board` , um die Position der \"Queens\" darzustellen"
   ]
  },
  {
   "cell_type": "code",
   "execution_count": 3,
   "metadata": {},
   "outputs": [
    {
     "data": {
      "image/png": "[encoded data removed]",
      "text/plain": [
       "<Figure size 360x360 with 1 Axes>"
      ]
     },
     "metadata": {
      "needs_background": "light"
     },
     "output_type": "display_data"
    }
   ],
   "source": [
    "### Solution ###\n",
    "\n",
    "board_bin = return_board(np.array([0, 3, 1, 4, 2]))\n",
    "plot_board(board_bin)"
   ]
  },
  {
   "cell_type": "markdown",
   "metadata": {},
   "source": [
    "# Aufgabe: Anwendung Evolutionäre Algorithmen (EA)\n",
    "\n",
    "- Implementieren Sie folgende Funktionen (siehe Referenzen in Vorlesungsfolien), um mit Hilfe von EA das n-Damen Problem zu lösen"
   ]
  },
  {
   "cell_type": "code",
   "execution_count": null,
   "metadata": {},
   "outputs": [],
   "source": [
    "def init(n, pop_size):\n",
    "        \"\"\" n - Dimension des n-Dame Problems\n",
    "        pop_size - Populationsgroesse \"\"\"\n",
    "\n",
    "    pass\n",
    "\n",
    "def fitness(individual):\n",
    "    \"\"\"Calculates the fitness of an individual n-queens configuration.\"\"\"\n",
    "    pass\n",
    "\n",
    "def roulette_selection(population, fitnesses, sd, num_parents):\n",
    "    \"\"\" Rouletteselektion:\n",
    "    Selects parents for recombination using roulette wheel selection.\"\"\"\n",
    "    pass\n",
    "\n",
    "def single_point_cross_over(mother, father):\n",
    "    \"\"\"Performs single-point crossover on two parents.\n",
    "    \n",
    "    X_mother - erster Elter\n",
    "    X_father - zweiter Elter \n",
    "    \n",
    "    \"\"\"\n",
    "    pass\n",
    "\n",
    "def mutate_int(individual, sigma, m_rate, bounds):\n",
    "    \"\"\"Mutates an individual by adding a normally-distributed random number to a random gene.\"\"\"\n",
    "    pass\n",
    "\n",
    "def reinsertion(population, offspring, f, omega):\n",
    "    \"\"\" population - Aktuelle Population\n",
    "        offspring  - Nachkommen (haengt von gamma ab)\n",
    "        f          - Fitnessfunktion\n",
    "        omega      - Wiedereinfuegerate \"\"\"\n",
    "    pass\n",
    "    \n",
    "# Helper lambda-Funktion zur Berechnung der Fitness-Werten\n",
    "f = lambda population : np.asarray([fitness(individuum) for individuum in population])"
   ]
  },
  {
   "cell_type": "markdown",
   "metadata": {},
   "source": [
    "### Startparameter:"
   ]
  },
  {
   "cell_type": "code",
   "execution_count": null,
   "metadata": {},
   "outputs": [],
   "source": [
    "n = 8\n",
    "max_generation = 100 # Abbruchkriterium\n",
    "pop_size = 100 # Populationsgroesse\n",
    "gamma = 1.0 # Generationsluecke\n",
    "omega = 0.1 # Wiedereinfuegungsrate\n",
    "sd = 1.4 # Selektionsdruck\n",
    "p_mutation = 0.02 # Mutationswahrscheinlichkeit\n",
    "m_rate = 0.8 # Mutationsrate\n",
    "sigma = 1.2 # Mutationsparameter\n",
    "\n",
    "pop = init(n, pop_size)\n",
    "f_pop = f(pop)"
   ]
  },
  {
   "cell_type": "markdown",
   "metadata": {},
   "source": [
    "## Optimierung für n-Generationen ausführen:"
   ]
  },
  {
   "cell_type": "code",
   "execution_count": null,
   "metadata": {},
   "outputs": [],
   "source": [
    "plot_data = [] # Initialize plot data\n",
    "\n",
    "for i in range(max_generation):\n",
    "    \n",
    "    # Selektion\n",
    "    parents = roulette_selection(pop, f_pop, sd, int(gamma * pop_size))\n",
    "    \n",
    "    # Rekombination\n",
    "    offspring = np.asarray([single_point_cross_over(mother, father) \n",
    "                            for father, mother in parents])\n",
    "    \n",
    "    # Mutation\n",
    "    for idx, off in enumerate(offspring):\n",
    "        if np.random.rand() <= p_mutation:\n",
    "            # Mutation for ganze Zahlen\n",
    "            offspring[idx] = mutate_int(off, sigma, m_rate, [[0,n-1]]*n)\n",
    "\n",
    "    # Wiedereinfuegen\n",
    "    pop = reinsertion(pop, offspring, f, omega)\n",
    "    \n",
    "    # Plot board for best individual\n",
    "    best_idx = np.argmin(f_pop)\n",
    "    plot_board(return_board(pop[best_idx]))\n",
    "    plot_f_pop(f_pop)\n",
    "    print(f\"Generation {i + 1}: Best fitness = {f_pop[best_idx]}\")\n",
    "\n",
    "    # Update fitness und fitness-werte in Liste einfügen\n",
    "    f_pop = f(pop)\n",
    "    plot_data.append(np.min(f_pop))\n",
    "    \n",
    "    #time.sleep(0.2)\n",
    "    clear_output(wait=True)"
   ]
  },
  {
   "cell_type": "code",
   "execution_count": null,
   "metadata": {},
   "outputs": [],
   "source": [
    "# Plot fitness values\n",
    "plt.plot(plot_data)\n",
    "plt.title(\"Fitness over generations\")\n",
    "plt.xlabel(\"Generation\")\n",
    "plt.ylabel(\"Fitness\")\n",
    "plt.show()"
   ]
  },
  {
   "cell_type": "code",
   "execution_count": null,
   "metadata": {},
   "outputs": [],
   "source": []
  }
 ],
 "metadata": {
  "kernelspec": {
   "display_name": "Python 3",
   "language": "python",
   "name": "python3"
  },
  "language_info": {
   "codemirror_mode": {
    "name": "ipython",
    "version": 3
   },
   "file_extension": ".py",
   "mimetype": "text/x-python",
   "name": "python",
   "nbconvert_exporter": "python",
   "pygments_lexer": "ipython3",
   "version": "3.8.5"
  }
 },
 "nbformat": 4,
 "nbformat_minor": 4
}
