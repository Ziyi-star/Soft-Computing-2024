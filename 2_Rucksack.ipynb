{
 "cells": [
  {
   "cell_type": "markdown",
   "id": "45262dfa-91e6-4c15-a7d5-9c83f0fb711b",
   "metadata": {},
   "source": [
    "# Rucksack/Knapsack-Problem\n",
    "\n",
    "Lösen Sie das [Rucksackproblem](https://de.wikipedia.org/wiki/Rucksackproblem) mit Hilfe eines EA. Vergleichen Sie ihre Lösung mit der Optimalen Lösung die mittel DP gefunden werden kann.\n",
    "\n",
    "Mit der Funktion `rucksack_items(num, random_state) -> ndarray` können Sie zufällig `num` Objekte erzeugen die verschiedene Wertigkeiten (Values) und Gewichte (Weights) haben.\n",
    "\n",
    "Für Ihren Rucksack müssen sie entsprechend eine sinnvolle Kapazität (maximal Gewicht) finden.\n",
    "\n",
    "Ziel ist es, den Wert des Rucksacks zu maximieren (also die Summe der `Wertigkeiten` der Objekte im Rucksack). Entsprechend muss entschieden werden, welche Objekte mitgenommen werden.\n"
   ]
  },
  {
   "cell_type": "code",
   "execution_count": 5,
   "id": "fef17e0b-98d3-4ed7-9802-98083d233260",
   "metadata": {},
   "outputs": [
    {
     "ename": "NameError",
     "evalue": "name 'r_items_vwt' is not defined",
     "output_type": "error",
     "traceback": [
      "\u001b[1;31m---------------------------------------------------------------------------\u001b[0m",
      "\u001b[1;31mNameError\u001b[0m                                 Traceback (most recent call last)",
      "Cell \u001b[1;32mIn[5], line 4\u001b[0m\n\u001b[0;32m      1\u001b[0m \u001b[38;5;28;01mfrom\u001b[39;00m \u001b[38;5;21;01msoftcomputing\u001b[39;00m\u001b[38;5;21;01m.\u001b[39;00m\u001b[38;5;21;01mdatasets\u001b[39;00m \u001b[38;5;28;01mimport\u001b[39;00m rucksack_items\n\u001b[0;32m      3\u001b[0m r_items_vw \u001b[38;5;241m=\u001b[39m rucksack_items(\u001b[38;5;241m16\u001b[39m, \u001b[38;5;241m1337\u001b[39m)\n\u001b[1;32m----> 4\u001b[0m \u001b[43mr_items_vwt\u001b[49m\n",
      "\u001b[1;31mNameError\u001b[0m: name 'r_items_vwt' is not defined"
     ]
    }
   ],
   "source": [
    "from softcomputing.datasets import rucksack_items\n",
    "\n",
    "r_items_vw = rucksack_items(16, 1337)\n",
    "r_items_vwt"
   ]
  },
  {
   "cell_type": "code",
   "execution_count": 6,
   "id": "c930e9ca-88ea-4019-a396-9a5ada384f19",
   "metadata": {},
   "outputs": [],
   "source": [
    "values = r_items_vw[:,0]"
   ]
  },
  {
   "cell_type": "code",
   "execution_count": 7,
   "id": "161963ea-5fef-4058-81ad-a1d6472a9248",
   "metadata": {},
   "outputs": [],
   "source": [
    "weights = r_items_vw[:,1]"
   ]
  },
  {
   "cell_type": "markdown",
   "id": "dc0a30ed-98b2-41b2-8d24-41ca4fbf716f",
   "metadata": {},
   "source": [
    "# Vorbereitung"
   ]
  },
  {
   "cell_type": "code",
   "execution_count": 4,
   "id": "d01ade8f-eb6d-49f6-a896-374981a2b750",
   "metadata": {},
   "outputs": [],
   "source": [
    "from softcomputing.solver import rucksack_dp"
   ]
  },
  {
   "cell_type": "markdown",
   "id": "1e789d9c-aeb5-4be5-b7df-91741f58dc2e",
   "metadata": {},
   "source": [
    "1. Finden Sie eine geeignete Kodierung (Genotyp) für das Problem."
   ]
  },
  {
   "cell_type": "code",
   "execution_count": null,
   "id": "00a5bc76-5e21-401a-b02f-ce89be59c01c",
   "metadata": {},
   "outputs": [],
   "source": [
    "city_dists"
   ]
  },
  {
   "cell_type": "markdown",
   "id": "a06a299a-79e4-4538-9068-c46b4ff1ddc4",
   "metadata": {},
   "source": [
    "2. Erstellen Sie eine geeignete Funktion, die aus Ihrer Kodierung (Genotyp) ein neues Individuum erzeugt (Phänotyp). (Anmerkung: abhängig von der Kodierung kann dies trivial sein!)"
   ]
  },
  {
   "cell_type": "code",
   "execution_count": null,
   "id": "39c583f5-e99e-4033-ac81-4596a9b9df12",
   "metadata": {},
   "outputs": [],
   "source": []
  },
  {
   "cell_type": "markdown",
   "id": "b1f23263-f99c-470d-bc16-a81e5a819c54",
   "metadata": {},
   "source": [
    "3) Erstellen Sie eine geeignete Fitness-Funktion welche Ihre Lösung bewertet."
   ]
  },
  {
   "cell_type": "code",
   "execution_count": null,
   "id": "64d24204-0d2a-4fcb-95b2-3ce4b28d0ed1",
   "metadata": {},
   "outputs": [],
   "source": []
  },
  {
   "cell_type": "markdown",
   "id": "8cfce2f0-d59a-4964-9ef9-758f6e1daed7",
   "metadata": {},
   "source": [
    "# Implementierung EA"
   ]
  },
  {
   "cell_type": "code",
   "execution_count": null,
   "id": "4b288f8e-5b3e-4638-8cec-39ba4362ee26",
   "metadata": {},
   "outputs": [],
   "source": []
  },
  {
   "cell_type": "code",
   "execution_count": null,
   "id": "0c605fff-bc36-4654-bfc0-bd03b735ec25",
   "metadata": {},
   "outputs": [],
   "source": []
  }
 ],
 "metadata": {
  "kernelspec": {
   "display_name": "Python 3 (ipykernel)",
   "language": "python",
   "name": "python3"
  },
  "language_info": {
   "codemirror_mode": {
    "name": "ipython",
    "version": 3
   },
   "file_extension": ".py",
   "mimetype": "text/x-python",
   "name": "python",
   "nbconvert_exporter": "python",
   "pygments_lexer": "ipython3",
   "version": "3.12.4"
  }
 },
 "nbformat": 4,
 "nbformat_minor": 5
}
